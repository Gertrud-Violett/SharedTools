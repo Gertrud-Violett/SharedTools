{
  "cells": [
    {
      "cell_type": "markdown",
      "metadata": {
        "id": "view-in-github",
        "colab_type": "text"
      },
      "source": [
        "<a href=\"https://colab.research.google.com/github/Gertrud-Violett/Makkiblog_Share/blob/main/NoiseFFTAnalysis/.ipynb_checkpoints/wavFFT_Noise_Plot_wPeriodogram-checkpoint.ipynb\" target=\"_parent\"><img src=\"https://colab.research.google.com/assets/colab-badge.svg\" alt=\"Open In Colab\"/></a>"
      ]
    },
    {
      "cell_type": "code",
      "execution_count": 1,
      "metadata": {
        "id": "8cfOs2ktm24I"
      },
      "outputs": [],
      "source": [
        "#Setup\n",
        "import numpy as np\n",
        "import scipy.fftpack\n",
        "from scipy import signal\n",
        "from scipy.io import wavfile as wav\n",
        "from scipy.fftpack import fft\n",
        "import matplotlib\n",
        "import matplotlib.pyplot as plt\n",
        "from matplotlib.colors import LogNorm\n",
        "import pandas as pd\n",
        "import os\n",
        "import sys\n",
        "import configparser\n",
        "import codecs\n",
        "import json\n",
        "import csv\n",
        "import wave\n",
        "from numpy import savetxt\n",
        "import pylab\n",
        "\n",
        "#mpl.rcParams['agg.path.chunksize'] = 100000"
      ]
    },
    {
      "cell_type": "code",
      "execution_count": 2,
      "metadata": {
        "id": "Rb1gXLtZm24M"
      },
      "outputs": [],
      "source": [
        "#Setup (Visual)\n",
        "import seaborn as sns\n",
        "sns.set_context(\"notebook\", font_scale=1.5, rc={\"lines.linewidth\": 1.5})\n",
        "sns.set_style('whitegrid')\n",
        "\n",
        "plt.rcParams[\"figure.figsize\"] = (15,10)\n",
        "plt.rcParams['figure.facecolor'] = 'white'"
      ]
    },
    {
      "cell_type": "markdown",
      "metadata": {
        "id": "D8j5b5i8m24N"
      },
      "source": [
        "### SETTINGS"
      ]
    },
    {
      "cell_type": "code",
      "execution_count": 3,
      "metadata": {
        "id": "l55snKxTm24P"
      },
      "outputs": [],
      "source": [
        "#wav data read\n",
        "def get_wav_info(wav_file):\n",
        "    wav = wave.open(wav_file, 'r')\n",
        "    frames = wav.readframes(-1)\n",
        "    sound_info = pylab.frombuffer(frames, 'int16')\n",
        "    frame_rate = wav.getframerate()\n",
        "    wav.close()\n",
        "    return sound_info, frame_rate\n",
        "\n",
        "#plot\n",
        "def graph_spectrogram(wav_file):\n",
        "    sound_info, frame_rate = get_wav_info(wav_file + '.wav')\n",
        "    print(sound_info,frame_rate)\n",
        "    fig = plt.figure(num=None, figsize=(16, 8))\n",
        "    plt.subplot(111)\n",
        "    plt.title('spectrogram of %r' % wav_file)\n",
        "    plt.xlabel('Time [s]')\n",
        "    plt.ylabel('Frequency [Hz]')\n",
        "    #Set for periodogram NFFT setting\n",
        "    #NFFT = int(frame_rate*0.005)\n",
        "    data = plt.specgram(sound_info, Fs=frame_rate, cmap='jet')\n",
        "    \n",
        "    #Xaxis and Y axix parameter setting\n",
        "    plt.ylim(0,1000)\n",
        "    plt.clim(30, 50)\n",
        "    \n",
        "    fig.colorbar(data[3]).set_label('Intensity [dB]')\n",
        "    plt.savefig(wav_file + 'specgram.png')\n",
        "    \n",
        "    #set axis and output to array csv, Uncomment to output csv data\n",
        "    freqdf = np.transpose([np.append(0.0,data[1])])\n",
        "    timedf = [data[2]]\n",
        "    #print('FREQ',freqdf)\n",
        "    #print('TIME',timedf)\n",
        "    #savetxt(wav_file + '_freq.csv', freqdf, delimiter=',')\n",
        "    #savetxt(wav_file + '_time.csv', timedf, delimiter=',')\n",
        "    arr0 = np.append(timedf, data[0], axis = 0)\n",
        "    csvarr = np.append(freqdf, arr0, axis = 1)\n",
        "    #savetxt(wav_file + '.csv', csvarr, delimiter=',')\n",
        "\n",
        "    #plot each frequency\n",
        "    #set n=1 for 0Hz and and n for higher frequency: resolution depends on sampling rate\n",
        "    n = 2\n",
        "    while n < 2:\n",
        "        xdata = csvarr[0,:]\n",
        "        ydata = csvarr[n,:]\n",
        "        print('X', xdata)\n",
        "        print('Y', ydata)\n",
        "        cutfreq = str(int(ydata[0]))\n",
        "    \n",
        "        plt.figure(num=None, figsize=(16, 8))\n",
        "        plt.subplot(111)\n",
        "        plt.title('Intensity_at_' + cutfreq + '[Hz]')\n",
        "        plt.xlabel('Time [s]')\n",
        "        plt.ylabel('Intensity [dB]')\n",
        "        ylim(20,110)\n",
        "        xdata = np.delete(xdata, 0)\n",
        "        ydata = np.delete(ydata, 0)\n",
        "        ydata = 20*np.log10(ydata)\n",
        "        print(ydata)\n",
        "        plt.plot(xdata, ydata) \n",
        "        plt.savefig(wav_file + '_' + cutfreq + 'Hz_cut.png')\n",
        "        \n",
        "        n = n + 1\n",
        "\n",
        "    \n"
      ]
    },
    {
      "cell_type": "markdown",
      "metadata": {
        "id": "47Qoa_Iwm24Q"
      },
      "source": [
        "### Plot Data"
      ]
    },
    {
      "cell_type": "code",
      "execution_count": 4,
      "metadata": {
        "id": "JOf3ydQ5m24R",
        "outputId": "6f3edbae-0050-4ef8-811a-c26e076b1783",
        "colab": {
          "base_uri": "https://localhost:8080/",
          "height": 379
        }
      },
      "outputs": [
        {
          "output_type": "error",
          "ename": "FileNotFoundError",
          "evalue": "ignored",
          "traceback": [
            "\u001b[0;31m---------------------------------------------------------------------------\u001b[0m",
            "\u001b[0;31mFileNotFoundError\u001b[0m                         Traceback (most recent call last)",
            "\u001b[0;32m<ipython-input-4-6355e5e82c11>\u001b[0m in \u001b[0;36m<module>\u001b[0;34m()\u001b[0m\n\u001b[1;32m      2\u001b[0m \u001b[0;34m\u001b[0m\u001b[0m\n\u001b[1;32m      3\u001b[0m \u001b[0;31m#Enter .wav file name in ''\u001b[0m\u001b[0;34m\u001b[0m\u001b[0;34m\u001b[0m\u001b[0;34m\u001b[0m\u001b[0m\n\u001b[0;32m----> 4\u001b[0;31m \u001b[0mgraph_spectrogram\u001b[0m\u001b[0;34m(\u001b[0m\u001b[0;34m'SampleNoise'\u001b[0m\u001b[0;34m)\u001b[0m\u001b[0;34m\u001b[0m\u001b[0;34m\u001b[0m\u001b[0m\n\u001b[0m\u001b[1;32m      5\u001b[0m \u001b[0;34m\u001b[0m\u001b[0m\n",
            "\u001b[0;32m<ipython-input-3-1e5cacbbabb5>\u001b[0m in \u001b[0;36mgraph_spectrogram\u001b[0;34m(wav_file)\u001b[0m\n\u001b[1;32m     10\u001b[0m \u001b[0;31m#plot\u001b[0m\u001b[0;34m\u001b[0m\u001b[0;34m\u001b[0m\u001b[0;34m\u001b[0m\u001b[0m\n\u001b[1;32m     11\u001b[0m \u001b[0;32mdef\u001b[0m \u001b[0mgraph_spectrogram\u001b[0m\u001b[0;34m(\u001b[0m\u001b[0mwav_file\u001b[0m\u001b[0;34m)\u001b[0m\u001b[0;34m:\u001b[0m\u001b[0;34m\u001b[0m\u001b[0;34m\u001b[0m\u001b[0m\n\u001b[0;32m---> 12\u001b[0;31m     \u001b[0msound_info\u001b[0m\u001b[0;34m,\u001b[0m \u001b[0mframe_rate\u001b[0m \u001b[0;34m=\u001b[0m \u001b[0mget_wav_info\u001b[0m\u001b[0;34m(\u001b[0m\u001b[0mwav_file\u001b[0m \u001b[0;34m+\u001b[0m \u001b[0;34m'.wav'\u001b[0m\u001b[0;34m)\u001b[0m\u001b[0;34m\u001b[0m\u001b[0;34m\u001b[0m\u001b[0m\n\u001b[0m\u001b[1;32m     13\u001b[0m     \u001b[0mprint\u001b[0m\u001b[0;34m(\u001b[0m\u001b[0msound_info\u001b[0m\u001b[0;34m,\u001b[0m\u001b[0mframe_rate\u001b[0m\u001b[0;34m)\u001b[0m\u001b[0;34m\u001b[0m\u001b[0;34m\u001b[0m\u001b[0m\n\u001b[1;32m     14\u001b[0m     \u001b[0mfig\u001b[0m \u001b[0;34m=\u001b[0m \u001b[0mplt\u001b[0m\u001b[0;34m.\u001b[0m\u001b[0mfigure\u001b[0m\u001b[0;34m(\u001b[0m\u001b[0mnum\u001b[0m\u001b[0;34m=\u001b[0m\u001b[0;32mNone\u001b[0m\u001b[0;34m,\u001b[0m \u001b[0mfigsize\u001b[0m\u001b[0;34m=\u001b[0m\u001b[0;34m(\u001b[0m\u001b[0;36m16\u001b[0m\u001b[0;34m,\u001b[0m \u001b[0;36m8\u001b[0m\u001b[0;34m)\u001b[0m\u001b[0;34m)\u001b[0m\u001b[0;34m\u001b[0m\u001b[0;34m\u001b[0m\u001b[0m\n",
            "\u001b[0;32m<ipython-input-3-1e5cacbbabb5>\u001b[0m in \u001b[0;36mget_wav_info\u001b[0;34m(wav_file)\u001b[0m\n\u001b[1;32m      1\u001b[0m \u001b[0;31m#wav data read\u001b[0m\u001b[0;34m\u001b[0m\u001b[0;34m\u001b[0m\u001b[0;34m\u001b[0m\u001b[0m\n\u001b[1;32m      2\u001b[0m \u001b[0;32mdef\u001b[0m \u001b[0mget_wav_info\u001b[0m\u001b[0;34m(\u001b[0m\u001b[0mwav_file\u001b[0m\u001b[0;34m)\u001b[0m\u001b[0;34m:\u001b[0m\u001b[0;34m\u001b[0m\u001b[0;34m\u001b[0m\u001b[0m\n\u001b[0;32m----> 3\u001b[0;31m     \u001b[0mwav\u001b[0m \u001b[0;34m=\u001b[0m \u001b[0mwave\u001b[0m\u001b[0;34m.\u001b[0m\u001b[0mopen\u001b[0m\u001b[0;34m(\u001b[0m\u001b[0mwav_file\u001b[0m\u001b[0;34m,\u001b[0m \u001b[0;34m'r'\u001b[0m\u001b[0;34m)\u001b[0m\u001b[0;34m\u001b[0m\u001b[0;34m\u001b[0m\u001b[0m\n\u001b[0m\u001b[1;32m      4\u001b[0m     \u001b[0mframes\u001b[0m \u001b[0;34m=\u001b[0m \u001b[0mwav\u001b[0m\u001b[0;34m.\u001b[0m\u001b[0mreadframes\u001b[0m\u001b[0;34m(\u001b[0m\u001b[0;34m-\u001b[0m\u001b[0;36m1\u001b[0m\u001b[0;34m)\u001b[0m\u001b[0;34m\u001b[0m\u001b[0;34m\u001b[0m\u001b[0m\n\u001b[1;32m      5\u001b[0m     \u001b[0msound_info\u001b[0m \u001b[0;34m=\u001b[0m \u001b[0mpylab\u001b[0m\u001b[0;34m.\u001b[0m\u001b[0mfrombuffer\u001b[0m\u001b[0;34m(\u001b[0m\u001b[0mframes\u001b[0m\u001b[0;34m,\u001b[0m \u001b[0;34m'int16'\u001b[0m\u001b[0;34m)\u001b[0m\u001b[0;34m\u001b[0m\u001b[0;34m\u001b[0m\u001b[0m\n",
            "\u001b[0;32m/usr/lib/python3.7/wave.py\u001b[0m in \u001b[0;36mopen\u001b[0;34m(f, mode)\u001b[0m\n\u001b[1;32m    508\u001b[0m             \u001b[0mmode\u001b[0m \u001b[0;34m=\u001b[0m \u001b[0;34m'rb'\u001b[0m\u001b[0;34m\u001b[0m\u001b[0;34m\u001b[0m\u001b[0m\n\u001b[1;32m    509\u001b[0m     \u001b[0;32mif\u001b[0m \u001b[0mmode\u001b[0m \u001b[0;32min\u001b[0m \u001b[0;34m(\u001b[0m\u001b[0;34m'r'\u001b[0m\u001b[0;34m,\u001b[0m \u001b[0;34m'rb'\u001b[0m\u001b[0;34m)\u001b[0m\u001b[0;34m:\u001b[0m\u001b[0;34m\u001b[0m\u001b[0;34m\u001b[0m\u001b[0m\n\u001b[0;32m--> 510\u001b[0;31m         \u001b[0;32mreturn\u001b[0m \u001b[0mWave_read\u001b[0m\u001b[0;34m(\u001b[0m\u001b[0mf\u001b[0m\u001b[0;34m)\u001b[0m\u001b[0;34m\u001b[0m\u001b[0;34m\u001b[0m\u001b[0m\n\u001b[0m\u001b[1;32m    511\u001b[0m     \u001b[0;32melif\u001b[0m \u001b[0mmode\u001b[0m \u001b[0;32min\u001b[0m \u001b[0;34m(\u001b[0m\u001b[0;34m'w'\u001b[0m\u001b[0;34m,\u001b[0m \u001b[0;34m'wb'\u001b[0m\u001b[0;34m)\u001b[0m\u001b[0;34m:\u001b[0m\u001b[0;34m\u001b[0m\u001b[0;34m\u001b[0m\u001b[0m\n\u001b[1;32m    512\u001b[0m         \u001b[0;32mreturn\u001b[0m \u001b[0mWave_write\u001b[0m\u001b[0;34m(\u001b[0m\u001b[0mf\u001b[0m\u001b[0;34m)\u001b[0m\u001b[0;34m\u001b[0m\u001b[0;34m\u001b[0m\u001b[0m\n",
            "\u001b[0;32m/usr/lib/python3.7/wave.py\u001b[0m in \u001b[0;36m__init__\u001b[0;34m(self, f)\u001b[0m\n\u001b[1;32m    158\u001b[0m         \u001b[0mself\u001b[0m\u001b[0;34m.\u001b[0m\u001b[0m_i_opened_the_file\u001b[0m \u001b[0;34m=\u001b[0m \u001b[0;32mNone\u001b[0m\u001b[0;34m\u001b[0m\u001b[0;34m\u001b[0m\u001b[0m\n\u001b[1;32m    159\u001b[0m         \u001b[0;32mif\u001b[0m \u001b[0misinstance\u001b[0m\u001b[0;34m(\u001b[0m\u001b[0mf\u001b[0m\u001b[0;34m,\u001b[0m \u001b[0mstr\u001b[0m\u001b[0;34m)\u001b[0m\u001b[0;34m:\u001b[0m\u001b[0;34m\u001b[0m\u001b[0;34m\u001b[0m\u001b[0m\n\u001b[0;32m--> 160\u001b[0;31m             \u001b[0mf\u001b[0m \u001b[0;34m=\u001b[0m \u001b[0mbuiltins\u001b[0m\u001b[0;34m.\u001b[0m\u001b[0mopen\u001b[0m\u001b[0;34m(\u001b[0m\u001b[0mf\u001b[0m\u001b[0;34m,\u001b[0m \u001b[0;34m'rb'\u001b[0m\u001b[0;34m)\u001b[0m\u001b[0;34m\u001b[0m\u001b[0;34m\u001b[0m\u001b[0m\n\u001b[0m\u001b[1;32m    161\u001b[0m             \u001b[0mself\u001b[0m\u001b[0;34m.\u001b[0m\u001b[0m_i_opened_the_file\u001b[0m \u001b[0;34m=\u001b[0m \u001b[0mf\u001b[0m\u001b[0;34m\u001b[0m\u001b[0;34m\u001b[0m\u001b[0m\n\u001b[1;32m    162\u001b[0m         \u001b[0;31m# else, assume it is an open file object already\u001b[0m\u001b[0;34m\u001b[0m\u001b[0;34m\u001b[0m\u001b[0;34m\u001b[0m\u001b[0m\n",
            "\u001b[0;31mFileNotFoundError\u001b[0m: [Errno 2] No such file or directory: 'SampleNoise.wav'"
          ]
        }
      ],
      "source": [
        "# wav_plot\n",
        "\n",
        "#Enter .wav file name in ''\n",
        "graph_spectrogram('SampleNoise')\n",
        "\n"
      ]
    }
  ],
  "metadata": {
    "kernelspec": {
      "display_name": "Python 3 (ipykernel)",
      "language": "python",
      "name": "python3"
    },
    "language_info": {
      "codemirror_mode": {
        "name": "ipython",
        "version": 3
      },
      "file_extension": ".py",
      "mimetype": "text/x-python",
      "name": "python",
      "nbconvert_exporter": "python",
      "pygments_lexer": "ipython3",
      "version": "3.9.7"
    },
    "colab": {
      "name": "wavFFT_Noise_Plot_wPeriodogram-checkpoint.ipynb",
      "provenance": [],
      "include_colab_link": true
    }
  },
  "nbformat": 4,
  "nbformat_minor": 0
}